{
  "nbformat": 4,
  "nbformat_minor": 0,
  "metadata": {
    "kernelspec": {
      "display_name": "Python 3",
      "language": "python",
      "name": "python3"
    },
    "language_info": {
      "codemirror_mode": {
        "name": "ipython",
        "version": 3
      },
      "file_extension": ".py",
      "mimetype": "text/x-python",
      "name": "python",
      "nbconvert_exporter": "python",
      "pygments_lexer": "ipython3",
      "version": "3.6.4"
    },
    "colab": {
      "name": "Introduction+to+CUDA+Python+with+Numba.ipynb",
      "provenance": [],
      "include_colab_link": true
    }
  },
  "cells": [
    {
      "cell_type": "markdown",
      "metadata": {
        "id": "view-in-github",
        "colab_type": "text"
      },
      "source": [
        "<a href=\"https://colab.research.google.com/github/shekharidentv/cudaLearning/blob/master/notebooks/Introduction%2Bto%2BCUDA%2BPython%2Bwith%2BNumba.ipynb\" target=\"_parent\"><img src=\"https://colab.research.google.com/assets/colab-badge.svg\" alt=\"Open In Colab\"/></a>"
      ]
    },
    {
      "cell_type": "markdown",
      "metadata": {
        "id": "whUhRnAjnq68",
        "colab_type": "text"
      },
      "source": [
        "# Introduction to CUDA Python with Numba\n",
        "\n",
        "The **[CUDA](https://en.wikipedia.org/wiki/CUDA)** compute platform enables remarkable application acceleration by enabling developers to execute code in a massively parallel fashion on NVIDA GPUs.\n",
        "\n",
        "**[Numba](http://numba.pydata.org/)** is a just-in-time Python function compiler that exposes a simple interface for accelerating numerically-focused Python functions. Numba is a very attractive option for Python programmers wishing to GPU accelerate their applications without needing to write C/C++ code, especially for developers already performing computationally heavy operations on NumPy arrays. Numba can be used to accelerate Python functions for the CPU, as well as for NVIDIA GPUs. **The focus of this course is the fundamental techniques needed to GPU-accelerate Python applications using Numba.**"
      ]
    },
    {
      "cell_type": "markdown",
      "metadata": {
        "id": "R32y4TPjnq69",
        "colab_type": "text"
      },
      "source": [
        "## Course Structure\n",
        "\n",
        "This course is divided into **three** main sections:\n",
        "\n",
        "- _Introduction to CUDA Python with Numba_\n",
        "- _Custom CUDA Kernels in Python with Numba_\n",
        "- _Multidimensional Grids and Shared Memory for CUDA Python with Numba_\n",
        "\n",
        "Each section contains a final assessment problem, the successful completion of which will enable you to earn a Certificate of Competency for the course. Each section also contains an appendix with advanced materials for those of you with interest."
      ]
    },
    {
      "cell_type": "markdown",
      "metadata": {
        "id": "aDg3jTs8nq6-",
        "colab_type": "text"
      },
      "source": [
        "### Introduction to CUDA Python with Numba\n",
        "\n",
        "In this first section you will learn first how to use Numba to compile functions for the CPU, and will receive an introduction to the inner workings of the Numba compiler. You will then proceed to learn how to GPU accelerate element-wise NumPy array functions, along with some techniques for efficiently moving data between a CPU host and GPU device.\n",
        "\n",
        "By the end of the first session you will be able to GPU accelerate Python code that performs element-wise operations on NumPy arrays."
      ]
    },
    {
      "cell_type": "markdown",
      "metadata": {
        "id": "TNkf1qIxnq6_",
        "colab_type": "text"
      },
      "source": [
        "### Custom CUDA Kernels in Python with Numba\n",
        "\n",
        "In the second section you will expand your abilities to be able to launch arbitrary, not just element-wise, numerically focused functions in parallel on the GPU by writing custom CUDA kernels. In service of this goal you will learn about how NVIDIA GPUs execute code in parallel. Additionally, you will be exposed to several fundamental parallel programming techniques including how to coordinate the work of parallel threads, and how to address race conditions. You will also learn techniques for debugging code that executes on the GPU.\n",
        "\n",
        "By the end of the second section you will be ready to GPU accelerate an incredible range of numerically focused functions on 1D data sets."
      ]
    },
    {
      "cell_type": "markdown",
      "metadata": {
        "id": "lHfQCu1inq7A",
        "colab_type": "text"
      },
      "source": [
        "### Multidimensional Grids and Shared Memory for CUDA Python with Numba\n",
        "\n",
        "In the third section you will begin working in parallel with 2D data, and will learn how to utilize an on-chip memory space on the GPU called shared memory.\n",
        "\n",
        "By the end of the third section, you will be able to write GPU accelerated code in Python using Numba on 1D and 2D datasets while utilizing several of the most important optimization strategies for writing consistently fast GPU accelerated code."
      ]
    },
    {
      "cell_type": "markdown",
      "metadata": {
        "id": "sEvka3-Onq7B",
        "colab_type": "text"
      },
      "source": [
        "## Course Prerequisites\n",
        "\n",
        "* Competency writing Python, specifically, writing and invoking functions, working with variables, loops, and conditionals, and imports.\n",
        "* Familiarity with the NumPy Python library for numerically-focused Python. If you have never used NumPy, but are familiar with Python, you will likely find the use of NumPy in this session straightforward. Comments and links are provided where some clarification might be helpful.\n",
        "* A high level understanding of some computer science terms like memory allocation, value types, latency, and processing cores.\n",
        "* A basic understanding of what vectors and matrices are, and also matrix multiplication."
      ]
    },
    {
      "cell_type": "markdown",
      "metadata": {
        "id": "LGM6Zwafnq7C",
        "colab_type": "text"
      },
      "source": [
        "## Objectives for this Section\n",
        "\n",
        "By the time you complete this section you will be able to:\n",
        "\n",
        "- Use Numba to compile Python functions for the CPU.\n",
        "- Understand how Numba compiles Python functions.\n",
        "- GPU accelerate NumPy ufuncs.\n",
        "- GPU accelerate hand-written vectorized functions.\n",
        "- Optimize data transfers between the CPU host and GPU device."
      ]
    },
    {
      "cell_type": "markdown",
      "metadata": {
        "id": "QrH4jmX9nq7D",
        "colab_type": "text"
      },
      "source": [
        "## What is Numba?\n",
        "\n",
        "Numba is a **just-in-time**, **type-specializing**, **function compiler** for accelerating **numerically-focused** Python for either a CPU or GPU. That's a long list, so let's break down those terms:\n",
        "\n",
        " * **function compiler**: Numba compiles Python functions, not entire applications, and not parts of functions.  Numba does not replace your Python interpreter, but is just another Python module that can turn a function into a (usually) faster function. \n",
        " * **type-specializing**: Numba speeds up your function by generating a specialized implementation for the specific data types you are using.  Python functions are designed to operate on generic data types, which makes them very flexible, but also very slow.  In practice, you only will call a function with a small number of argument types, so Numba will generate a fast implementation for each set of types.\n",
        " * **just-in-time**: Numba translates functions when they are first called.  This ensures the compiler knows what argument types you will be using.  This also allows Numba to be used interactively in a Jupyter notebook just as easily as a traditional application.\n",
        " * **numerically-focused**: Currently, Numba is focused on numerical data types, like `int`, `float`, and `complex`.  There is very limited string processing support, and many string use cases are not going to work well on the GPU.  To get best results with Numba, you will likely be using NumPy arrays."
      ]
    },
    {
      "cell_type": "markdown",
      "metadata": {
        "id": "xSIDoEXUnq7D",
        "colab_type": "text"
      },
      "source": [
        "## Requirements for Using Numba\n",
        "\n",
        "Numba supports a wide range of operating systems:\n",
        "\n",
        " * Windows 7 and later, 32 and 64-bit\n",
        " * macOS 10.9 and later, 64-bit\n",
        " * Linux (most anything >= RHEL 5), 32-bit and 64-bit\n",
        "\n",
        "and Python versions:\n",
        "\n",
        " * Python 2.7, 3.4-3.6\n",
        " * NumPy 1.10 and later\n",
        "\n",
        "and a very wide range of hardware:\n",
        "\n",
        "* x86, x86_64/AMD64 CPUs\n",
        "* NVIDIA CUDA GPUs (Compute capability 3.0 and later, CUDA 8.0 and later)\n",
        "* AMD GPUs (experimental patches)\n",
        "* ARM (experimental patches)\n",
        "\n",
        "For this course, we will be using Linux 64-bit and CUDA 9."
      ]
    },
    {
      "cell_type": "markdown",
      "metadata": {
        "id": "TDD9aWYDnq7E",
        "colab_type": "text"
      },
      "source": [
        "## Aside: CUDA C/C++ vs. Numba vs. pyCUDA\n",
        "\n",
        "By no means is Numba the only way to program with CUDA. By far the most common way to program in CUDA is with the CUDA C/C++ language extensions. With regards to Python, [pyCUDA](https://documen.tician.de/pycuda/) is, in addition to Numba, an alternative to GPU accelerating Python code. We will remained focused on Numba throughout this course, but a quick comparison of the three options just named is worth a mention before we get started, just for a little context.\n",
        "\n",
        "**CUDA C/C++**:\n",
        "- The most common, performant, and flexible way to utilize CUDA\n",
        "- Accelerates C/C++ applications\n",
        "\n",
        "**pyCUDA**:\n",
        "- Exposes the entire CUDA C/C++ API\n",
        "- Is the most performant CUDA option available for Python\n",
        "- Requires writing C code in your Python, and in general, a lot of code modifications\n",
        "\n",
        "**Numba**:\n",
        "- Potentially less performant than pyCUDA\n",
        "- Does not (yet?) expose the entire CUDA C/C++ API\n",
        "- Still enables massive acceleration, often with very little code modification\n",
        "- Allows developers the convenience of writing code directly in Python\n",
        "- Also optimizes Python code for the CPU"
      ]
    },
    {
      "cell_type": "markdown",
      "metadata": {
        "id": "BB39ifnBnq7F",
        "colab_type": "text"
      },
      "source": [
        "## First Steps: Compile for the CPU\n",
        "\n",
        "If you recall Numba can be used to optimize code for either a CPU or GPU. As an introduction, and before moving onto GPU acceleration, let's write our first Numba function and compile it for the **CPU**. In doing so we will get an easy entrance into Numba syntax, and will also have an opportunity a little later on to compare the performance of CPU optimized Numba code to GPU acclerated Numba code.\n",
        "\n",
        "The Numba compiler is typically enabled by applying a [**function decorator**](https://en.wikipedia.org/wiki/Python_syntax_and_semantics#Decorators) to a Python function. Decorators are function modifiers that transform the Python functions they decorate, using a very simple syntax. Here we will use Numba's CPU compilation decorator `@jit`:"
      ]
    },
    {
      "cell_type": "code",
      "metadata": {
        "id": "aUzR9ONLnq7G",
        "colab_type": "code",
        "colab": {}
      },
      "source": [
        "from numba import jit\n",
        "import math\n",
        "\n",
        "# This is the function decorator syntax and is equivalent to `hypot = jit(hypot)`.\n",
        "# The Numba compiler is just a function you can call whenever you want!\n",
        "@jit\n",
        "def hypot(x, y):\n",
        "    # Implementation from https://en.wikipedia.org/wiki/Hypot\n",
        "    x = abs(x);\n",
        "    y = abs(y);\n",
        "    t = min(x, y);\n",
        "    x = max(x, y);\n",
        "    t = t / x;\n",
        "    return x * math.sqrt(1+t*t)"
      ],
      "execution_count": 0,
      "outputs": []
    },
    {
      "cell_type": "markdown",
      "metadata": {
        "id": "QLbCS8aKnq7J",
        "colab_type": "text"
      },
      "source": [
        "Let's try out our hypotenuse calculation:"
      ]
    },
    {
      "cell_type": "code",
      "metadata": {
        "id": "QDGWV8Bsnq7K",
        "colab_type": "code",
        "colab": {}
      },
      "source": [
        "hypot(3.0, 4.0)"
      ],
      "execution_count": 0,
      "outputs": []
    },
    {
      "cell_type": "markdown",
      "metadata": {
        "id": "Y5S59movnq7N",
        "colab_type": "text"
      },
      "source": [
        "We will go in to more detail below about what happens when `hypot` is called, but for now know that the first time we call `hypot`, the compiler is triggered and compiles a machine code implementation of the function for float inputs. Numba also saves the original Python implementation of the function in the `.py_func` attribute, so we can call the original Python code to make sure we get the same answer:"
      ]
    },
    {
      "cell_type": "code",
      "metadata": {
        "id": "GlNbx4HKnq7O",
        "colab_type": "code",
        "colab": {}
      },
      "source": [
        "hypot.py_func(3.0, 4.0)"
      ],
      "execution_count": 0,
      "outputs": []
    },
    {
      "cell_type": "markdown",
      "metadata": {
        "id": "Jstalt5Snq7Q",
        "colab_type": "text"
      },
      "source": [
        "### Benchmarking\n",
        "\n",
        "An important part of using Numba is measuring the performance of your new code.  Let's see if we actually sped anything up.  The easiest way to do this in a Jupyter notebook, like the one this session is run in, is to use the [`%timeit` magic function](https://ipython.readthedocs.io/en/stable/interactive/magics.html#magic-timeit).  Let's first measure the speed of the original Python:"
      ]
    },
    {
      "cell_type": "code",
      "metadata": {
        "id": "t1hqHjNtnq7R",
        "colab_type": "code",
        "colab": {}
      },
      "source": [
        "%timeit hypot.py_func(3.0, 4.0)"
      ],
      "execution_count": 0,
      "outputs": []
    },
    {
      "cell_type": "markdown",
      "metadata": {
        "id": "ZWJ9P_hCnq7T",
        "colab_type": "text"
      },
      "source": [
        "The `%timeit` magic runs the statement many times to get an accurate estimate of the run time.  It also returns the best time by default, which is useful to reduce the probability that random background events affect your measurement.  The best of 3 approach also ensures that the compilation time on the first call doesn't skew the results:"
      ]
    },
    {
      "cell_type": "code",
      "metadata": {
        "id": "HfZQ5jXPnq7U",
        "colab_type": "code",
        "colab": {}
      },
      "source": [
        "%timeit hypot(3.0, 4.0)"
      ],
      "execution_count": 0,
      "outputs": []
    },
    {
      "cell_type": "markdown",
      "metadata": {
        "id": "w81f3Ra7nq7X",
        "colab_type": "text"
      },
      "source": [
        "Numba did a pretty good job with this function.  It's certainly faster than the pure Python version. Of course, the `hypot` function is already present in the Python module, let's see how it compares:"
      ]
    },
    {
      "cell_type": "code",
      "metadata": {
        "id": "aQaDcNtwnq7X",
        "colab_type": "code",
        "colab": {}
      },
      "source": [
        "%timeit math.hypot(3.0, 4.0)"
      ],
      "execution_count": 0,
      "outputs": []
    },
    {
      "cell_type": "markdown",
      "metadata": {
        "id": "OOP3pVK2nq7a",
        "colab_type": "text"
      },
      "source": [
        "Python's built-in is even faster than Numba! This is because Numba does introduce some overhead to each function call that is larger than the function call overhead of Python itself. Extremely fast functions (like the above one) will be hurt by this. (As an aside, if you call one Numba function from another one, there is very little function overhead, sometimes even zero if the compiler inlines the function into the other one. In short, always benchmark your functions for evidence of speed up.)"
      ]
    },
    {
      "cell_type": "markdown",
      "metadata": {
        "id": "PdvNY6z0nq7a",
        "colab_type": "text"
      },
      "source": [
        "### Exercise: Use Numba to Compile a Function for the CPU\n",
        "\n",
        "The following function uses [the Monte Carlo Method to determine Pi](https://academo.org/demos/estimating-pi-monte-carlo/) (source code from the [Numba homepage](http://numba.pydata.org/)). The function itself is already working so don't worry about the mathematical implementation details.\n",
        "\n",
        "Complete the two `TODO`s in order to compile `monte_carlo_pi` with Numba before executing the following 3 cells which will:\n",
        "\n",
        "  1. Confirm the compiled version is behaving the same as the uncompiled version.\n",
        "  2. Benchmark the uncompiled version.\n",
        "  3. Benchmark the compiled version.\n",
        "\n",
        "If you get stuck, check out [the solution](../../../../edit/tasks/task1/task/solutions/monte_carlo_pi_solution.py)."
      ]
    },
    {
      "cell_type": "code",
      "metadata": {
        "id": "l2yIdLP6nq7b",
        "colab_type": "code",
        "colab": {}
      },
      "source": [
        "nsamples = 1000000"
      ],
      "execution_count": 0,
      "outputs": []
    },
    {
      "cell_type": "code",
      "metadata": {
        "id": "rbcqVi5cnq7d",
        "colab_type": "code",
        "colab": {}
      },
      "source": [
        "# TODO: Import Numba's just-in-time compiler function\n",
        "import random\n",
        "\n",
        "# TODO: Use the Numba compiler to compile this function\n",
        "def monte_carlo_pi(nsamples):\n",
        "    acc = 0\n",
        "    for i in range(nsamples):\n",
        "        x = random.random()\n",
        "        y = random.random()\n",
        "        if (x**2 + y**2) < 1.0:\n",
        "            acc += 1\n",
        "    return 4.0 * acc / nsamples"
      ],
      "execution_count": 0,
      "outputs": []
    },
    {
      "cell_type": "code",
      "metadata": {
        "id": "0cGxYa5nnq7f",
        "colab_type": "code",
        "colab": {}
      },
      "source": [
        "# We will use numpy's `testing` library to confirm compiled and uncompiled versions run the same\n",
        "from numpy import testing\n",
        "\n",
        "# This assertion will fail until you successfully complete the exercise one cell above\n",
        "testing.assert_almost_equal(monte_carlo_pi(nsamples), monte_carlo_pi.py_func(nsamples), decimal=2)"
      ],
      "execution_count": 0,
      "outputs": []
    },
    {
      "cell_type": "code",
      "metadata": {
        "id": "Q0uJjnF5nq7j",
        "colab_type": "code",
        "colab": {}
      },
      "source": [
        "%timeit monte_carlo_pi(nsamples)"
      ],
      "execution_count": 0,
      "outputs": []
    },
    {
      "cell_type": "code",
      "metadata": {
        "id": "lqYmfVYKnq7m",
        "colab_type": "code",
        "colab": {}
      },
      "source": [
        "%timeit monte_carlo_pi.py_func(nsamples)"
      ],
      "execution_count": 0,
      "outputs": []
    },
    {
      "cell_type": "markdown",
      "metadata": {
        "id": "Q_jpCybenq7o",
        "colab_type": "text"
      },
      "source": [
        "## How Numba Works\n",
        "\n",
        "Now that you've gotton your hands a little dirty using the Numba compiler, let's take a look at what is actually going on under the hood. The first time we called our Numba-wrapped `hypot` function, the following process was initiated:\n",
        "\n",
        "![Numba Flowchart](images/numba_flowchart.png \"The compilation process\")\n",
        "\n",
        "We can see the result of type inference by using the `.inspect_types()` method, which prints an annotated version of the source code:"
      ]
    },
    {
      "cell_type": "code",
      "metadata": {
        "scrolled": true,
        "id": "KzEnVdjKnq7p",
        "colab_type": "code",
        "colab": {}
      },
      "source": [
        "hypot.inspect_types()"
      ],
      "execution_count": 0,
      "outputs": []
    },
    {
      "cell_type": "markdown",
      "metadata": {
        "id": "SuTIooUJnq7r",
        "colab_type": "text"
      },
      "source": [
        "Note that Numba's type names tend to mirror [the NumPy type names](https://docs.scipy.org/doc/numpy-1.13.0/user/basics.types.html), so a Python `float` is a `float64` (also called \"double precision\" in other languages).  Taking a look at the data types can sometimes be important in GPU code because the performance of `float32` and `float64` computations will be very different on CUDA devices. If your algorithm can obtain correct results using `float32`, then you should probably use that data type, because casting to `float64` can dramatically slow down the function."
      ]
    },
    {
      "cell_type": "markdown",
      "metadata": {
        "id": "hRNAytDnnq7r",
        "colab_type": "text"
      },
      "source": [
        "## Object and nopython Modes\n",
        "\n",
        "Numba cannot compile all Python code.  Some functions don't have a Numba-translation, and some kinds of Python types can't be efficiently compiled at all (yet).  For example, Numba does not support dictionaries (as of this writing). Here let's try to compile some Python code that Numba does not yet know how to compile:"
      ]
    },
    {
      "cell_type": "code",
      "metadata": {
        "id": "XV04Ie8Dnq7s",
        "colab_type": "code",
        "colab": {}
      },
      "source": [
        "@jit\n",
        "def cannot_compile(x):\n",
        "    return x['key']\n",
        "\n",
        "cannot_compile(dict(key='value'))"
      ],
      "execution_count": 0,
      "outputs": []
    },
    {
      "cell_type": "markdown",
      "metadata": {
        "id": "fRhVM8Dknq7u",
        "colab_type": "text"
      },
      "source": [
        "Given what we just said, you might be surpised that the cell above executed without any problems. This is because by default, Numba will fall back to a mode, called **object mode**, which does not do type-specialization. Object mode exists to enable other Numba functionality, but in many cases, you want Numba to tell you if type inference fails. You can force **nopython mode** (the other compilation mode) by passing the `nopython` argument to the decorator:"
      ]
    },
    {
      "cell_type": "code",
      "metadata": {
        "id": "APEKrg16nq7v",
        "colab_type": "code",
        "colab": {}
      },
      "source": [
        "@jit(nopython=True)\n",
        "def cannot_compile(x):\n",
        "    return x['key']\n",
        "\n",
        "cannot_compile(dict(key='value'))"
      ],
      "execution_count": 0,
      "outputs": []
    },
    {
      "cell_type": "markdown",
      "metadata": {
        "id": "Ae9AqJ-6nq7y",
        "colab_type": "text"
      },
      "source": [
        "Now we get an exception when Numba tries to compile the function, and if you scroll down to the end of the exception output you will see an error that describes the underlying problem:\n",
        "```\n",
        "- argument 0: cannot determine Numba type of <class 'dict'>\n",
        "```\n",
        "\n",
        "**Using `nopython` mode is the recommended and best practice way to use `jit` as it leads to the best performance.**\n",
        "\n",
        "Numba provides another decorator `njit` which is an alias for `jit(nopython=True)`:"
      ]
    },
    {
      "cell_type": "code",
      "metadata": {
        "id": "8SObJ0uknq7y",
        "colab_type": "code",
        "colab": {}
      },
      "source": [
        "from numba import njit\n",
        "\n",
        "@njit\n",
        "def cannot_compile(x):\n",
        "    return x['key']\n",
        "\n",
        "cannot_compile(dict(key='value'))"
      ],
      "execution_count": 0,
      "outputs": []
    },
    {
      "cell_type": "markdown",
      "metadata": {
        "id": "N_fgQv5Xnq70",
        "colab_type": "text"
      },
      "source": [
        "Please refer to [the Numba documentation](https://numba.pydata.org/numba-doc/dev/reference/pysupported.html) for an exhaustive account of Numba-supported Python."
      ]
    },
    {
      "cell_type": "markdown",
      "metadata": {
        "id": "DL3xKMuqnq71",
        "colab_type": "text"
      },
      "source": [
        "## Introduction to Numba for the GPU with NumPy Universal Functions (ufuncs)\n",
        "\n",
        "We will begin our coverage of GPU programming in Numba with how to compile [NumPy Universal functions \\(or ufuncs\\)](https://docs.scipy.org/doc/numpy-1.15.1/reference/ufuncs.html) for the GPU."
      ]
    },
    {
      "cell_type": "markdown",
      "metadata": {
        "id": "ravSBM_Anq72",
        "colab_type": "text"
      },
      "source": [
        "The most important thing to know about GPU programming as we get started is that GPU hardware is designed for *data parallelism*. Maximum throughput is achieved when the GPU is computing the same operations on many different elements at once.\n",
        "\n",
        "NumPy Universal functions, which perform the same operation on every element in a NumPy array, are naturally data parallel, so they are a natural fit for GPU programming."
      ]
    },
    {
      "cell_type": "markdown",
      "metadata": {
        "id": "_m3_v1uPnq72",
        "colab_type": "text"
      },
      "source": [
        "## Review of NumPy Universal Functions (ufuncs)\n",
        "\n",
        "Familiarity with NumPy ufuncs is a prerequisite of this course, but in case you are unfamiliar with them, or in case it has been a while, here is a very brief introduction. If, at the end of this brief introduction, you don't feel comfortable with the basic NumPy mechanisms for array creation and ufuncs, consider the ~1 hour [NumPy Quickstart Tutorial](https://docs.scipy.org/doc/numpy/user/quickstart.html).\n",
        "\n",
        "NumPy has the concept of universal functions (\"ufuncs\"), which are functions that can take NumPy arrays of varying dimensions, or scalars, and operate on them element-by-element.\n",
        "\n",
        "As an example we'll use the NumPy `add` ufunc to demonstrate the basic ufunc mechanism:"
      ]
    },
    {
      "cell_type": "code",
      "metadata": {
        "id": "Da21e50Gnq73",
        "colab_type": "code",
        "colab": {}
      },
      "source": [
        "import numpy as np\n",
        "\n",
        "a = np.array([1, 2, 3, 4])\n",
        "b = np.array([10, 20, 30, 40])\n",
        "\n",
        "np.add(a, b) # Returns a new NumPy array resulting from adding every element in `a` to every element in `b`"
      ],
      "execution_count": 0,
      "outputs": []
    },
    {
      "cell_type": "markdown",
      "metadata": {
        "id": "1CpjfPSonq75",
        "colab_type": "text"
      },
      "source": [
        "Ufuncs also can combine scalars with arrays:"
      ]
    },
    {
      "cell_type": "code",
      "metadata": {
        "id": "2QiFuadPnq75",
        "colab_type": "code",
        "colab": {}
      },
      "source": [
        "np.add(a, 100) # Returns a new NumPy array resulting from adding 100 to every element in `a`"
      ],
      "execution_count": 0,
      "outputs": []
    },
    {
      "cell_type": "markdown",
      "metadata": {
        "id": "v-rWKzk2nq77",
        "colab_type": "text"
      },
      "source": [
        "Arrays of different, but compatible dimensions can also be combined via a technique called [*broadcasting*](https://docs.scipy.org/doc/numpy-1.15.0/user/basics.broadcasting.html). The lower dimensional array will be replicated to match the dimensionality of the higher dimensional array. If needed, check out the docs for [`numpy.arange`](https://docs.scipy.org/doc/numpy-1.15.0/reference/generated/numpy.arange.html) and [`numpy.ndarray.reshape`](https://docs.scipy.org/doc/numpy-1.15.0/reference/generated/numpy.ndarray.reshape.html), both will be used several times throughout this course:"
      ]
    },
    {
      "cell_type": "code",
      "metadata": {
        "id": "h7MCLA1Xnq78",
        "colab_type": "code",
        "colab": {}
      },
      "source": [
        "c = np.arange(4*4).reshape((4,4))\n",
        "print('c:', c)\n",
        "\n",
        "np.add(b, c)"
      ],
      "execution_count": 0,
      "outputs": []
    },
    {
      "cell_type": "markdown",
      "metadata": {
        "id": "Bh0LCWLnnq7-",
        "colab_type": "text"
      },
      "source": [
        "## Making ufuncs for the GPU\n",
        "\n",
        "Numba has the ability to create *compiled* ufuncs, typically a not-so-straighforward process involving C code. With Numba you simply implement a scalar function to be performed on all the inputs, decorate it with `@vectorize`, and Numba will figure out the broadcast rules for you. For those of you familiar with [NumPy's `vectorize`](https://docs.scipy.org/doc/numpy-1.15.0/reference/generated/numpy.vectorize.html), Numba's `vectorize` decorator will be very familiar."
      ]
    },
    {
      "cell_type": "markdown",
      "metadata": {
        "id": "W8OjFPLCnq7_",
        "colab_type": "text"
      },
      "source": [
        "In this very first example we will use the `@vectorize` decorator to compile and optimize a ufunc for the **CPU**."
      ]
    },
    {
      "cell_type": "code",
      "metadata": {
        "id": "UbQ15N4-nq7_",
        "colab_type": "code",
        "colab": {}
      },
      "source": [
        "from numba import vectorize\n",
        "\n",
        "@vectorize\n",
        "def add_ten(num):\n",
        "    return num + 10 # This scalar operation will be performed on each element"
      ],
      "execution_count": 0,
      "outputs": []
    },
    {
      "cell_type": "code",
      "metadata": {
        "id": "Y3yqNtofnq8D",
        "colab_type": "code",
        "colab": {}
      },
      "source": [
        "nums = np.arange(10)\n",
        "add_ten(nums) # pass the whole array into the ufunc, it performs the operation on each element"
      ],
      "execution_count": 0,
      "outputs": []
    },
    {
      "cell_type": "markdown",
      "metadata": {
        "id": "D2GCQWAPnq8F",
        "colab_type": "text"
      },
      "source": [
        "We are generating a ufunc that uses CUDA on the GPU with the addition of giving an **explicit type signature** and setting the `target` attribute. The type signature argument describes what types to use both for the ufuncs arguments and return value:\n",
        "```python\n",
        "'return_value_type(argument1_value_type, argument2_value_type, ...)'\n",
        "```\n",
        "\n",
        "Please see the Numba docs for more on [available types](https://numba.pydata.org/numba-doc/dev/reference/types.html), as well as for additional information on [writing ufuncs with more than one signature](https://numba.pydata.org/numba-doc/dev/user/vectorize.html)\n",
        "\n",
        "Here is a simple example of a ufunc that will be compiled for a CUDA enabled GPU device. It expects two `int64` values and return also an `int64` value:"
      ]
    },
    {
      "cell_type": "code",
      "metadata": {
        "id": "uOLGiKwsnq8F",
        "colab_type": "code",
        "colab": {}
      },
      "source": [
        "@vectorize(['int64(int64, int64)'], target='cuda') # Type signature and target are required for the GPU\n",
        "def add_ufunc(x, y):\n",
        "    return x + y"
      ],
      "execution_count": 0,
      "outputs": []
    },
    {
      "cell_type": "code",
      "metadata": {
        "id": "D6nBaUQ8nq8I",
        "colab_type": "code",
        "colab": {}
      },
      "source": [
        "add_ufunc(a, b)"
      ],
      "execution_count": 0,
      "outputs": []
    },
    {
      "cell_type": "markdown",
      "metadata": {
        "id": "_oZvleNXnq8K",
        "colab_type": "text"
      },
      "source": [
        "For such a simple function call, a lot of things just happened!  Numba just automatically:\n",
        "\n",
        " * Compiled a CUDA kernel to execute the ufunc operation in parallel over all the input elements.\n",
        " * Allocated GPU memory for the inputs and the output.\n",
        " * Copied the input data to the GPU.\n",
        " * Executed the CUDA kernel (GPU function) with the correct kernel dimensions given the input sizes.\n",
        " * Copied the result back from the GPU to the CPU.\n",
        " * Returned the result as a NumPy array on the host.\n",
        " \n",
        "Compared to an implementation in C, the above is remarkably more concise.\n",
        "\n",
        "You might be wondering how fast our simple example is on the GPU?  Let's see:"
      ]
    },
    {
      "cell_type": "code",
      "metadata": {
        "id": "1BW1CfIinq8L",
        "colab_type": "code",
        "colab": {}
      },
      "source": [
        "%timeit np.add(b, c)   # NumPy on CPU"
      ],
      "execution_count": 0,
      "outputs": []
    },
    {
      "cell_type": "code",
      "metadata": {
        "id": "dvcId3ORnq8M",
        "colab_type": "code",
        "colab": {}
      },
      "source": [
        "%timeit add_ufunc(b, c) # Numba on GPU"
      ],
      "execution_count": 0,
      "outputs": []
    },
    {
      "cell_type": "markdown",
      "metadata": {
        "id": "1fqiWR8tnq8P",
        "colab_type": "text"
      },
      "source": [
        "Wow, the GPU is *a lot slower* than the CPU?? For the time being this is to be expected because we have (deliberately) misused the GPU in several ways in this example. How we have misused the GPU will help clarify what kinds of problems are well-suited for GPU computing, and which are best left to be performed on the CPU:\n",
        "\n",
        "  * **Our inputs are too small**: the GPU achieves performance through parallelism, operating on thousands of values at once.  Our test inputs have only 4 and 16 integers, respectively.  We need a much larger array to even keep the GPU busy.\n",
        "  * **Our calculation is too simple**: Sending a calculation to the GPU involves quite a bit of overhead compared to calling a function on the CPU.  If our calculation does not involve enough math operations (often called \"arithmetic intensity\"), then the GPU will spend most of its time waiting for data to move around.\n",
        "  * **We copy the data to and from the GPU**: While in some scenarios, paying the cost of copying data to and from the GPU can be worth it for a single function, often it will be preferred to to run several GPU operations in sequence. In those cases, it makes sense to send data to the GPU and keep it there until all of our processing is complete.\n",
        "  * **Our data types are larger than necessary**: Our example uses `int64` when we probably don't need it.  Scalar code using data types that are 32 and 64-bit run basically the same speed on the CPU, and for integer types the difference may not be drastic, but 64-bit floating point data types have a significant performance cost on the GPU.  Basic arithmetic on 64-bit floats can be anywhere from 2x (Pascal-architecture Tesla) to 24x (Maxwell-architecture GeForce) slower than 32-bit floats.  NumPy defaults to 64-bit data types when creating arrays, so it is important to set the [`dtype`](https://docs.scipy.org/doc/numpy-1.14.0/reference/arrays.dtypes.html) attribute or use the [`ndarray.astype()`](https://docs.scipy.org/doc/numpy-1.15.0/reference/generated/numpy.ndarray.astype.html) method to pick 32-bit types when you need them.\n",
        "  \n",
        "  \n",
        "Given the above, let's try an example that is faster on the GPU by performing an operation with much greater arithmetic intensity, on a much larger input, and using a 32-bit data type:"
      ]
    },
    {
      "cell_type": "code",
      "metadata": {
        "id": "ospjT-Nznq8P",
        "colab_type": "code",
        "colab": {}
      },
      "source": [
        "import math # Note that for the CUDA target, we need to use the scalar functions from the math module, not NumPy\n",
        "\n",
        "SQRT_2PI = np.float32((2*math.pi)**0.5)  # Precompute this constant as a float32.  Numba will inline it at compile time.\n",
        "\n",
        "@vectorize(['float32(float32, float32, float32)'], target='cuda')\n",
        "def gaussian_pdf(x, mean, sigma):\n",
        "    '''Compute the value of a Gaussian probability density function at x with given mean and sigma.'''\n",
        "    return math.exp(-0.5 * ((x - mean) / sigma)**2) / (sigma * SQRT_2PI)"
      ],
      "execution_count": 0,
      "outputs": []
    },
    {
      "cell_type": "code",
      "metadata": {
        "id": "GT7xL7G7nq8R",
        "colab_type": "code",
        "colab": {}
      },
      "source": [
        "import numpy as np\n",
        "# Evaluate the Gaussian a million times!\n",
        "x = np.random.uniform(-3, 3, size=1000000).astype(np.float32)\n",
        "mean = np.float32(0.0)\n",
        "sigma = np.float32(1.0)\n",
        "\n",
        "# Quick test on a single element just to make sure it works\n",
        "gaussian_pdf(x[0], 0.0, 1.0)"
      ],
      "execution_count": 0,
      "outputs": []
    },
    {
      "cell_type": "code",
      "metadata": {
        "id": "W0x2MTAonq8V",
        "colab_type": "code",
        "colab": {}
      },
      "source": [
        "import scipy.stats # for definition of gaussian distribution, so we can compare CPU to GPU time\n",
        "norm_pdf = scipy.stats.norm\n",
        "%timeit norm_pdf.pdf(x, loc=mean, scale=sigma)"
      ],
      "execution_count": 0,
      "outputs": []
    },
    {
      "cell_type": "code",
      "metadata": {
        "id": "JCr1HUcSnq8X",
        "colab_type": "code",
        "colab": {}
      },
      "source": [
        "%timeit gaussian_pdf(x, mean, sigma)"
      ],
      "execution_count": 0,
      "outputs": []
    },
    {
      "cell_type": "markdown",
      "metadata": {
        "id": "xb-nfrwenq8Z",
        "colab_type": "text"
      },
      "source": [
        "That's a pretty large improvement, even including the overhead of copying all the data to and from the GPU.  Ufuncs that use special functions (`exp`, `sin`, `cos`, etc) on large data sets run especially well on the GPU.\n",
        "\n",
        "To complete our comparison, let's define and time our `gaussian_pdf` function when optimized by Numba for the **CPU**:"
      ]
    },
    {
      "cell_type": "code",
      "metadata": {
        "id": "SXPHgX8Tnq8Z",
        "colab_type": "code",
        "colab": {}
      },
      "source": [
        "@vectorize\n",
        "def cpu_gaussian_pdf(x, mean, sigma):\n",
        "    '''Compute the value of a Gaussian probability density function at x with given mean and sigma.'''\n",
        "    return math.exp(-0.5 * ((x - mean) / sigma)**2) / (sigma * SQRT_2PI)"
      ],
      "execution_count": 0,
      "outputs": []
    },
    {
      "cell_type": "code",
      "metadata": {
        "id": "cNMyH1bbnq8b",
        "colab_type": "code",
        "colab": {}
      },
      "source": [
        "%timeit cpu_gaussian_pdf(x, mean, sigma)"
      ],
      "execution_count": 0,
      "outputs": []
    },
    {
      "cell_type": "markdown",
      "metadata": {
        "id": "oPrPsr2Znq8e",
        "colab_type": "text"
      },
      "source": [
        "That's much faster than the uncompiled CPU version, but much slower than the GPU accelerated one."
      ]
    },
    {
      "cell_type": "markdown",
      "metadata": {
        "id": "FP7wYZ02nq8g",
        "colab_type": "text"
      },
      "source": [
        "## CUDA Device Functions\n",
        "\n",
        "Ufuncs are really quite fantastic if and when you want to perform element wise operations, which is a very common task. There are any number of functions however, that do not fit this description. To compile functions for the GPU that are **not** element wise, vectorized functions, we use `numba.cuda.jit`. In the next section of this course we work extensively with `numba.cuda.jit`, but for now, let us demonstrate how to use it to decorate a helper function, to be utilized by a GPU accelerated ufunc, so that you are not required to cram all your logic into a single ufunc defintion.\n",
        "\n",
        "Notice that `polar_to_cartesian` below does not require a type signature, and also, that it is passed two scalar values, unlike the vectorized ufuncs we have been using (and like `polar_distance` below) which expect NumPy arrays as arguments.\n",
        "\n",
        "The argument `device=True` indicates that the decorated function can **only** be called from a function running on the GPU, and not from CPU host code:"
      ]
    },
    {
      "cell_type": "code",
      "metadata": {
        "id": "80-jtCuTnq8h",
        "colab_type": "code",
        "colab": {}
      },
      "source": [
        "from numba import cuda\n",
        "\n",
        "@cuda.jit(device=True)\n",
        "def polar_to_cartesian(rho, theta):\n",
        "    x = rho * math.cos(theta)\n",
        "    y = rho * math.sin(theta)\n",
        "    return x, y\n",
        "\n",
        "@vectorize(['float32(float32, float32, float32, float32)'], target='cuda')\n",
        "def polar_distance(rho1, theta1, rho2, theta2):\n",
        "    x1, y1 = polar_to_cartesian(rho1, theta1) # We can use device functions inside our GPU ufuncs\n",
        "    x2, y2 = polar_to_cartesian(rho2, theta2)\n",
        "    \n",
        "    return ((x1 - x2)**2 + (y1 - y2)**2)**0.5"
      ],
      "execution_count": 0,
      "outputs": []
    },
    {
      "cell_type": "code",
      "metadata": {
        "id": "FnRjNf1cnq8j",
        "colab_type": "code",
        "colab": {}
      },
      "source": [
        "n = 1000000\n",
        "rho1 = np.random.uniform(0.5, 1.5, size=n).astype(np.float32)\n",
        "theta1 = np.random.uniform(-np.pi, np.pi, size=n).astype(np.float32)\n",
        "rho2 = np.random.uniform(0.5, 1.5, size=n).astype(np.float32)\n",
        "theta2 = np.random.uniform(-np.pi, np.pi, size=n).astype(np.float32)"
      ],
      "execution_count": 0,
      "outputs": []
    },
    {
      "cell_type": "code",
      "metadata": {
        "id": "Uii-C8Lbnq8m",
        "colab_type": "code",
        "colab": {}
      },
      "source": [
        "polar_distance(rho1, theta1, rho2, theta2)"
      ],
      "execution_count": 0,
      "outputs": []
    },
    {
      "cell_type": "markdown",
      "metadata": {
        "id": "wk10p5FNnq8p",
        "colab_type": "text"
      },
      "source": [
        "Note that the CUDA compiler aggressively inlines device functions, so there is generally no overhead for function calls.  Similarly, the \"tuple\" returned by `polar_to_cartesian` is not actually created as a Python object, but represented temporarily as a struct, which is then optimized away by the compiler."
      ]
    },
    {
      "cell_type": "markdown",
      "metadata": {
        "id": "rlpq0DuHnq8p",
        "colab_type": "text"
      },
      "source": [
        "## Allowed Python on the GPU\n",
        "\n",
        "Compared to Numba on the CPU (which is already limited), Numba on the GPU has more limitations.  Supported Python includes:\n",
        "\n",
        "* `if`/`elif`/`else`\n",
        "* `while` and `for` loops\n",
        "* Basic math operators\n",
        "* Selected functions from the `math` and `cmath` modules\n",
        "* Tuples\n",
        "\n",
        "See [the Numba manual](http://numba.pydata.org/numba-doc/latest/cuda/cudapysupported.html) for more details."
      ]
    },
    {
      "cell_type": "markdown",
      "metadata": {
        "id": "SF3mLUY7nq8q",
        "colab_type": "text"
      },
      "source": [
        "### Exercise: GPU Accelerate a Function\n",
        "\n",
        "Let's GPU accelerate a \"zero suppression\" function. A common operation when working with waveforms is to force all sample values below a certain absolute magnitude to be zero, as a way to eliminate low amplitude noise. Let's make some sample data:"
      ]
    },
    {
      "cell_type": "code",
      "metadata": {
        "id": "s9o_zAwznq8q",
        "colab_type": "code",
        "colab": {}
      },
      "source": [
        "# This allows us to plot right here in the notebook\n",
        "%matplotlib inline\n",
        "\n",
        "# Hacking up a noisy pulse train\n",
        "from matplotlib import pyplot as plt\n",
        "\n",
        "n = 100000\n",
        "noise = np.random.normal(size=n) * 3\n",
        "pulses = np.maximum(np.sin(np.arange(n) / (n / 23)) - 0.3, 0.0)\n",
        "waveform = ((pulses * 300) + noise).astype(np.int16)\n",
        "plt.plot(waveform)"
      ],
      "execution_count": 0,
      "outputs": []
    },
    {
      "cell_type": "markdown",
      "metadata": {
        "id": "CBBQw6Icnq8s",
        "colab_type": "text"
      },
      "source": [
        "Now decorate this `zero_suppress` function to run as a vectorized ufunc on the CUDA device. Check out [the solution](../../../../edit/tasks/task1/task/solutions/zero_suppress_solution.py) if you get stuck."
      ]
    },
    {
      "cell_type": "code",
      "metadata": {
        "id": "pOmrRn3inq8s",
        "colab_type": "code",
        "colab": {}
      },
      "source": [
        "def zero_suppress(waveform_value, threshold):\n",
        "    if waveform_value < threshold:\n",
        "        result = 0\n",
        "    else:\n",
        "        result = waveform_value\n",
        "    return result"
      ],
      "execution_count": 0,
      "outputs": []
    },
    {
      "cell_type": "code",
      "metadata": {
        "id": "PpLSulEknq8u",
        "colab_type": "code",
        "colab": {}
      },
      "source": [
        "# This will throw an error until you successfully vectorize the `zero_suppress` function above.\n",
        "# The noise on the baseline should disappear when zero_suppress is implemented\n",
        "plt.plot(zero_suppress(waveform, 15))"
      ],
      "execution_count": 0,
      "outputs": []
    },
    {
      "cell_type": "markdown",
      "metadata": {
        "id": "-TUFjyEOnq8x",
        "colab_type": "text"
      },
      "source": [
        "## Managing GPU Memory\n",
        "\n",
        "So far we have used NumPy arrays on the CPU as inputs and outputs to our GPU functions. As a convenience, Numba has been automatically transferring this data to the GPU for us so that it can be operated on by the GPU. With this implicit data transfer Numba, acting conservatively, will automatically transfer the data back to the CPU after processing. As you can imagine, this is a very time intensive operation.\n",
        "\n",
        "The [CUDA Best Practices Guide](https://docs.nvidia.com/cuda/cuda-c-best-practices-guide/index.html) indicates:\n",
        "\n",
        "> **High Priority**: Minimize data transfer between the host and the device, even if it means running some kernels on the device that do not show performance gains when compared with running them on the host CPU.\n",
        "\n",
        "With this in mind, we ought to consider how to prevent this automatic data transfer back to the host so that we can perform additional work on the data, only paying the price of copying it back to the host when we are truly ready.\n",
        "\n",
        "The way to do this is to create **CUDA Device Arrays** and pass them to our GPU functions. Device arrays will not be automatically transfered back to the host after processing, and can be reused as we wish on the device before ultimately, and only if necessary, sending them, or parts of them, back to the host.\n",
        "\n",
        "To demonstrate, let's create our example addition ufunc again:"
      ]
    },
    {
      "cell_type": "code",
      "metadata": {
        "id": "cDSHI5xDnq8x",
        "colab_type": "code",
        "colab": {}
      },
      "source": [
        "@vectorize(['float32(float32, float32)'], target='cuda')\n",
        "def add_ufunc(x, y):\n",
        "    return x + y"
      ],
      "execution_count": 0,
      "outputs": []
    },
    {
      "cell_type": "code",
      "metadata": {
        "id": "AEmfEyWHnq8z",
        "colab_type": "code",
        "colab": {}
      },
      "source": [
        "n = 100000\n",
        "x = np.arange(n).astype(np.float32)\n",
        "y = 2 * x"
      ],
      "execution_count": 0,
      "outputs": []
    },
    {
      "cell_type": "code",
      "metadata": {
        "id": "hrn5-nIvnq81",
        "colab_type": "code",
        "colab": {}
      },
      "source": [
        "%timeit add_ufunc(x, y)  # Baseline performance with host arrays"
      ],
      "execution_count": 0,
      "outputs": []
    },
    {
      "cell_type": "markdown",
      "metadata": {
        "id": "DsFjT92Pnq83",
        "colab_type": "text"
      },
      "source": [
        "The `numba.cuda` module includes a function that will copy host data to the GPU and return a CUDA device array. Note that below when we try to print the content of the device array, we only get information about the array, and not its actual contents. This is because the data is on the device, and we would need to transfer it back to the host in order to print its values, which we will show how to do later:"
      ]
    },
    {
      "cell_type": "code",
      "metadata": {
        "id": "gv_DF2GQnq83",
        "colab_type": "code",
        "colab": {}
      },
      "source": [
        "from numba import cuda\n",
        "\n",
        "x_device = cuda.to_device(x)\n",
        "y_device = cuda.to_device(y)\n",
        "\n",
        "print(x_device)\n",
        "print(x_device.shape)\n",
        "print(x_device.dtype)"
      ],
      "execution_count": 0,
      "outputs": []
    },
    {
      "cell_type": "markdown",
      "metadata": {
        "id": "B_CAwlA_nq85",
        "colab_type": "text"
      },
      "source": [
        "Device arrays can be passed to CUDA functions just like NumPy arrays, but without the copy overhead:"
      ]
    },
    {
      "cell_type": "code",
      "metadata": {
        "id": "fEovFVmonq86",
        "colab_type": "code",
        "colab": {}
      },
      "source": [
        "%timeit add_ufunc(x_device, y_device)"
      ],
      "execution_count": 0,
      "outputs": []
    },
    {
      "cell_type": "markdown",
      "metadata": {
        "id": "AJ_MP1-hnq87",
        "colab_type": "text"
      },
      "source": [
        "Because `x_device` and `y_device` are already on the device, this benchmark is much faster.\n",
        "\n",
        "We are, however, still allocating a device array for the output of the ufunc and copying it back to the host, even though in the cell above we are not actually assigning the array to a variable. To avoid this, we can create the output array with the [`numba.cuda.device_array()`](https://numba.pydata.org/numba-doc/dev/cuda-reference/memory.html#numba.cuda.device_array) function:"
      ]
    },
    {
      "cell_type": "code",
      "metadata": {
        "id": "Nk6K4k64nq87",
        "colab_type": "code",
        "colab": {}
      },
      "source": [
        "out_device = cuda.device_array(shape=(n,), dtype=np.float32)  # does not initialize the contents, like np.empty()"
      ],
      "execution_count": 0,
      "outputs": []
    },
    {
      "cell_type": "markdown",
      "metadata": {
        "collapsed": true,
        "id": "hYrpKs4Rnq89",
        "colab_type": "text"
      },
      "source": [
        "And then we can use a special `out` keyword argument to the ufunc to specify the output buffer:"
      ]
    },
    {
      "cell_type": "code",
      "metadata": {
        "id": "5wOiI8CEnq8-",
        "colab_type": "code",
        "colab": {}
      },
      "source": [
        "%timeit add_ufunc(x_device, y_device, out=out_device)"
      ],
      "execution_count": 0,
      "outputs": []
    },
    {
      "cell_type": "markdown",
      "metadata": {
        "id": "l9GYtSNGnq8_",
        "colab_type": "text"
      },
      "source": [
        "This call to `add_ufunc` does not involve any data transfers between the host and device and therefore runs the fastest. If and when we want to bring a device array back to the host memory, we can use the `copy_to_host()` method:"
      ]
    },
    {
      "cell_type": "code",
      "metadata": {
        "id": "OufTcyn_nq8_",
        "colab_type": "code",
        "colab": {}
      },
      "source": [
        "out_host = out_device.copy_to_host()\n",
        "print(out_host[:10])"
      ],
      "execution_count": 0,
      "outputs": []
    },
    {
      "cell_type": "markdown",
      "metadata": {
        "id": "uXyuiF1enq9B",
        "colab_type": "text"
      },
      "source": [
        "You may be thinking that we are not comparing apples to apples here since we have not been benchmarking the `to_device` calls when using the device arrays although the implicit data transfers are being counted towards the benchmarking when we use host arrays `a` and `b`, and you would be correct. Of course our `add_func` function is not particularly well suited for the GPU as discussed earlier. The above was only intended to demonstrate how the transfers can be eliminated.\n",
        "\n",
        "Be sure to benchmark your data transfers when exploring whether or not a trip to the GPU is worth it.\n",
        "\n",
        "Also, Numba provides additional methods for managing device memory and data transfer, check out [the docs](https://numba.pydata.org/numba-doc/dev/cuda/memory.html) for full details."
      ]
    },
    {
      "cell_type": "markdown",
      "metadata": {
        "id": "sFxCh1Amnq9B",
        "colab_type": "text"
      },
      "source": [
        "### Exercise: Optimize Memory Movement\n",
        "\n",
        "Given these ufuncs:"
      ]
    },
    {
      "cell_type": "code",
      "metadata": {
        "id": "5-yXT-6Unq9B",
        "colab_type": "code",
        "colab": {}
      },
      "source": [
        "import math\n",
        "\n",
        "@vectorize(['float32(float32, float32, float32)'], target='cuda')\n",
        "def make_pulses(i, period, amplitude):\n",
        "    return max(math.sin(i / period) - 0.3, 0.0) * amplitude\n",
        "\n",
        "n = 100000\n",
        "noise = (np.random.normal(size=n) * 3).astype(np.float32)\n",
        "t = np.arange(n, dtype=np.float32)\n",
        "period = n / 23"
      ],
      "execution_count": 0,
      "outputs": []
    },
    {
      "cell_type": "markdown",
      "metadata": {
        "id": "90M6JBcvnq9E",
        "colab_type": "text"
      },
      "source": [
        "As it currently stands in the cell below, there is an unnecessary data roundtrip back to the host and then back again to the device in between the calls to `make_pulses` and `add_ufunc`.\n",
        "\n",
        "Update the cell below to use device allocations so that there is only one copy to device before the call to `make_pulses` and one copy back to host after the call to `add_ufunc`. Check out [the solution](../../../../edit/tasks/task1/task/solutions/make_pulses_solution.py) if you get stuck."
      ]
    },
    {
      "cell_type": "code",
      "metadata": {
        "id": "spvuBRYznq9G",
        "colab_type": "code",
        "colab": {}
      },
      "source": [
        "pulses = make_pulses(t, period, 100.0)\n",
        "waveform = add_ufunc(pulses, noise)"
      ],
      "execution_count": 0,
      "outputs": []
    },
    {
      "cell_type": "code",
      "metadata": {
        "id": "eZKi1Bxonq9I",
        "colab_type": "code",
        "colab": {}
      },
      "source": [
        "%matplotlib inline\n",
        "from matplotlib import pyplot as plt\n",
        "plt.plot(waveform)"
      ],
      "execution_count": 0,
      "outputs": []
    },
    {
      "cell_type": "markdown",
      "metadata": {
        "id": "OlAUyvilnq9J",
        "colab_type": "text"
      },
      "source": [
        "## Assessment\n",
        "\n",
        "The following exercise will require you to utilize everything you've learned so far. Unlike previous exercises, there will not be any solution code available to you, and, there are a couple additional steps you will need to take to \"run the assessment\" and get a score for your attempt(s). **Please read the directions carefully before beginning your work to ensure the best chance at successfully completing the assessment.**"
      ]
    },
    {
      "cell_type": "markdown",
      "metadata": {
        "id": "lwXuAJUGnq9K",
        "colab_type": "text"
      },
      "source": [
        "### Accelerate Neural Network Calculations\n",
        "\n",
        "The following is a simple version of performing some work needed to create a hidden layer in a neural network. It normalizes a million grayscale values (simply created randomly here), weighs them, and applies an activation function.\n",
        "\n",
        "Your task is to move this work to the GPU using the techniques you've learned, retain the correctness of the calculations, and improve the performance of the function calls , which, according to the `timeit` magic, currently take about *50 ms*, to run instead under *5 ms*.\n",
        "\n",
        "Here are a couple reminders to consider before you begin your work:\n",
        "\n",
        "* Sending values to the device once, and leaving it there for multiple operations is a huge improvement over moving it between the host and device for every function call. In this lesson you learned how to use device arrays for output and reuse them on the GPU without a roundtrip back and from the host.\n",
        "* `np` math functions won't work on the device, you need to use their `math` counterparts instead."
      ]
    },
    {
      "cell_type": "code",
      "metadata": {
        "id": "T5HbhQnTnq9K",
        "colab_type": "code",
        "colab": {}
      },
      "source": [
        "# Do not modify this cell, these are the values that you will be assessed against.\n",
        "n = 1000000\n",
        "\n",
        "greyscales = np.floor(np.random.uniform(0, 255, n).astype(np.float32))\n",
        "weights = np.random.normal(.5, .1, n).astype(np.float32)"
      ],
      "execution_count": 0,
      "outputs": []
    },
    {
      "cell_type": "code",
      "metadata": {
        "id": "yTqZTjBZnq9M",
        "colab_type": "code",
        "colab": {}
      },
      "source": [
        "# Remember that we can't use numpy math function on the GPU...\n",
        "from numpy import exp\n",
        "\n",
        "# Consider modifying the 3 values in this cell to optimize host <-> device memory movement\n",
        "normalized = np.empty_like(greyscales)\n",
        "weighted = np.empty_like(greyscales)\n",
        "activated = np.empty_like(greyscales)\n",
        "\n",
        "# Modify these 3 function calls to run on the GPU\n",
        "def normalize(grayscales):\n",
        "    return grayscales / 255\n",
        "\n",
        "def weigh(values, weights):\n",
        "    return values * weights\n",
        "        \n",
        "def activate(values):\n",
        "    return ( np.exp(values) - np.exp(-values) ) / ( np.exp(values) + np.exp(-values) )"
      ],
      "execution_count": 0,
      "outputs": []
    },
    {
      "cell_type": "markdown",
      "metadata": {
        "id": "waRhgguAnq9P",
        "colab_type": "text"
      },
      "source": [
        "The cell immediately below is used to call functions, using the defintions and data from the cell above. Without any modification, `timeit` reports a runtime of about *50 ms*. Your job is to accelerate it, explicitly controlling data transfers so that the calls to the 3 functions are timed to run under *5 ms*.\n",
        "\n"
      ]
    },
    {
      "cell_type": "code",
      "metadata": {
        "id": "a7kRvCIInq9P",
        "colab_type": "code",
        "colab": {}
      },
      "source": [
        "%%timeit\n",
        "# Feel free to modify the 3 function calls in this cell\n",
        "normalized = normalize(greyscales)\n",
        "weighted = weigh(normalized, weights)\n",
        "SOLUTION = activate(weighted)"
      ],
      "execution_count": 0,
      "outputs": []
    },
    {
      "cell_type": "markdown",
      "metadata": {
        "id": "Mjtz_uminq9R",
        "colab_type": "text"
      },
      "source": [
        "## Summary\n",
        "\n",
        "Now that you have completed this session you are able to:\n",
        "\n",
        "- Use Numba to compile Python functions for the CPU\n",
        "- Understand how Numba compiles functions\n",
        "- GPU accelerate NumPy ufuncs\n",
        "- GPU accelerate hand-written vectorized functions\n",
        "- Optimize memory transfers between the CPU host and GPU device"
      ]
    },
    {
      "cell_type": "markdown",
      "metadata": {
        "id": "8Go67KVonq9V",
        "colab_type": "text"
      },
      "source": [
        "## Appendix: Generalized Ufuncs\n",
        "\n",
        "Ufuncs broadcast a scalar function over array inputs but what if you want to broadcast a lower dimensional array function over a higher dimensional array?  This is called a *generalized ufunc* (\"gufunc\"), and it opens up a whole new frontier for applying ufuncs.\n",
        "\n",
        "Generalized ufuncs are a little more tricky because they need a *signature* (not to be confused with the Numba type signature) that shows the index ordering when dealing with multiple inputs.  Fully explaining \"gufunc\" signatures is beyond the scope of this tutorial, but you can learn more from:\n",
        "\n",
        "* The NumPy docs on gufuncs: https://docs.scipy.org/doc/numpy/reference/c-api.generalized-ufuncs.html\n",
        "* The Numba docs on gufuncs: http://numba.pydata.org/numba-doc/latest/user/vectorize.html#the-guvectorize-decorator\n",
        "* The Numba docs on CUDA gufuncs: http://numba.pydata.org/numba-doc/latest/cuda/ufunc.html#generalized-cuda-ufuncs\n",
        "\n",
        "Let's write our own normalization function.  This will take an array input and compute the L2 norm along the last dimension.  Generalized ufuncs take their output array as the last argument, rather than returning a value. If the output is a scalar, then we will still receive an array that is one dimension less than the array input. For example, computing the row sums of an array will return a 1 dimensional array for 2D array input, or 2D array for 3D array input."
      ]
    },
    {
      "cell_type": "code",
      "metadata": {
        "id": "G62Jt_A0nq9V",
        "colab_type": "code",
        "colab": {}
      },
      "source": [
        "from numba import guvectorize\n",
        "import math\n",
        "\n",
        "@guvectorize(['(float32[:], float32[:])'], # have to include the output array in the type signature\n",
        "             '(i)->()',                 # map a 1D array to a scalar output\n",
        "             target='cuda')\n",
        "def l2_norm(vec, out):\n",
        "    acc = 0.0\n",
        "    for value in vec:\n",
        "        acc += value**2\n",
        "    out[0] = math.sqrt(acc)"
      ],
      "execution_count": 0,
      "outputs": []
    },
    {
      "cell_type": "markdown",
      "metadata": {
        "id": "04Yv2MsVnq9W",
        "colab_type": "text"
      },
      "source": [
        "To test this, let's construct some points on the unit circle:"
      ]
    },
    {
      "cell_type": "code",
      "metadata": {
        "id": "CjicZcyInq9X",
        "colab_type": "code",
        "colab": {}
      },
      "source": [
        "angles = np.random.uniform(-np.pi, np.pi, 10)\n",
        "coords = np.stack([np.cos(angles), np.sin(angles)], axis=1)\n",
        "print(coords)"
      ],
      "execution_count": 0,
      "outputs": []
    },
    {
      "cell_type": "markdown",
      "metadata": {
        "id": "65SHFh_1nq9Z",
        "colab_type": "text"
      },
      "source": [
        "As expected, the L2 norm is 1.0, up to rounding errors:"
      ]
    },
    {
      "cell_type": "code",
      "metadata": {
        "id": "fu_29UTQnq9Z",
        "colab_type": "code",
        "colab": {}
      },
      "source": [
        "l2_norm(coords)"
      ],
      "execution_count": 0,
      "outputs": []
    }
  ]
}